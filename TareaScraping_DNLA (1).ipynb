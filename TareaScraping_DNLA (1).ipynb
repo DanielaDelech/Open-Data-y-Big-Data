{
  "nbformat": 4,
  "nbformat_minor": 0,
  "metadata": {
    "colab": {
      "provenance": []
    },
    "kernelspec": {
      "name": "python3",
      "display_name": "Python 3"
    },
    "language_info": {
      "name": "python"
    }
  },
  "cells": [
    {
      "cell_type": "code",
      "execution_count": 39,
      "metadata": {
        "colab": {
          "base_uri": "https://localhost:8080/"
        },
        "id": "eEEroJnBwb_b",
        "outputId": "2f12ce53-22fe-408f-db58-0a9e793373d6"
      },
      "outputs": [
        {
          "output_type": "stream",
          "name": "stdout",
          "text": [
            "La canción Té Para Tres ya está descargada\n",
            "La canción Adiós ya está descargada\n",
            "La canción Vuelta Por El Universo ya está descargada\n",
            "La canción Cosas Imposibles ya está descargada\n",
            "La canción Puente ya está descargada\n",
            "La canción Lago en el Cielo ya está descargada\n",
            "La canción Magia ya está descargada\n",
            "La canción Crimen ya está descargada\n",
            "La canción Amor Amarillo ya está descargada\n",
            "La canción Fuerza Natural ya está descargada\n",
            "La canción Colores Santos ya está descargada\n",
            "La canción Cactus ya está descargada\n",
            "La canción Vivo ya está descargada\n",
            "La canción Deja vú ya está descargada\n",
            "La canción Tu Medicina ya está descargada\n",
            "La canción Me Quedo Aquí ya está descargada\n",
            "La canción Te Llevo Para Que Me Lleves ya está descargada\n",
            "La canción Fantasma ya está descargada\n",
            "La canción Naci Para Esto ya está descargada\n",
            "La canción Karaoke ya está descargada\n"
          ]
        }
      ],
      "source": [
        "import requests\n",
        "from bs4 import BeautifulSoup\n",
        "\n",
        "def obtener_canciones_cerati():\n",
        "    # URL del artista Gustavo Cerati\n",
        "    url = \"https://www.letras.com/gustavo-cerati/\"\n",
        "\n",
        "    # Realizar la solicitud HTTP y obtener el contenido de la página web\n",
        "    response = requests.get(url)\n",
        "    html_content = response.text\n",
        "\n",
        "    # Crear una instancia de BeautifulSoup para analizar el contenido HTML\n",
        "    soup = BeautifulSoup(html_content, 'html.parser')\n",
        "\n",
        "    # Encontrar todos los elementos de canciones en la página\n",
        "    canciones = soup.find_all('li', class_='cnt-list-row -song')\n",
        "\n",
        "    # Lista para almacenar las canciones\n",
        "    lista_canciones = []\n",
        "\n",
        "    # Recorrer los elementos de canciones y obtener el título de cada una\n",
        "    for cancion in canciones:\n",
        "        titulo_cancion = cancion.find('a').text.strip()\n",
        "        lista_canciones.append(titulo_cancion)\n",
        "\n",
        "    # Imprimir las canciones obtenidas\n",
        "    for cancion in lista_canciones:\n",
        "        print(f\"La canción {cancion}\"+\" \" + \"ya está descargada\")\n",
        "\n",
        "# Ejecutar la función para obtener las canciones de Gustavo Cerati\n",
        "obtener_canciones_cerati()\n"
      ]
    },
    {
      "cell_type": "code",
      "source": [
        "\n",
        "from bs4 import BeautifulSoup\n",
        "import requests\n",
        "\n",
        "def descargar_letras(artista):\n",
        "    letras_url = \"https://www.letras.com/morat/\" + artista.lower() + \"/\"\n",
        "    letras_titulo = requests.get(letras_url)\n",
        "    soup = BeautifulSoup(letras_titulo.text, \"html.parser\")\n",
        "\n",
        "    soup = soup.find('ol', class_='cnt-list')\n",
        "\n",
        "    if soup is not None:\n",
        "        listado_titulado = soup.find_all('li')\n",
        "\n",
        "        for li in listado_titulado:\n",
        "            a = li.find('a', href=True)\n",
        "            if a:\n",
        "                cancion_url = \"https://www.letras.com\" + a['href']\n",
        "                cancion_titulo = a.text.strip()\n",
        "                descargar_letra_cancion(cancion_titulo, cancion_url)\n",
        "\n",
        "def descargar_letra_cancion(titulo, url):\n",
        "    response = requests.get(url)\n",
        "    soup = BeautifulSoup(response.text, \"html.parser\")\n",
        "    letra = soup.find('div', class_='cnt-letra')\n",
        "    if letra is not None:\n",
        "        # Guardar la letra de la canción en un archivo de texto\n",
        "        with open(f\"{titulo}.txt\", \"w\", encoding=\"utf-8\") as archivo:\n",
        "            archivo.write(letra.text.strip())\n",
        "        print(f\"La canción {titulo}\"+\" \" + \"ya está descargada\")\n",
        "\n",
        "# Ejemplo de uso: Descargar las canciones de Amazarashi\n",
        "artista = \"luismiguel\"\n",
        "descargar_letras(artista)\n"
      ],
      "metadata": {
        "colab": {
          "base_uri": "https://localhost:8080/"
        },
        "id": "rLUc0-tS8XoT",
        "outputId": "fb2d1e4e-1bbf-4681-b7f0-5b047f70b34a"
      },
      "execution_count": 36,
      "outputs": [
        {
          "output_type": "stream",
          "name": "stdout",
          "text": [
            "La canción A Dónde Vamos ya está descargada\n",
            "La canción Besos En Guerra (part. Juanes) ya está descargada\n",
            "La canción No Se Va ya está descargada\n",
            "La canción Cuando Nadie Ve ya está descargada\n",
            "La canción Cuesta Abajo ya está descargada\n",
            "La canción 23 ya está descargada\n",
            "La canción Cómo Te Atreves ya está descargada\n",
            "La canción Debí Suponerlo ya está descargada\n",
            "La canción Enamórate de Alguien Más ya está descargada\n",
            "La canción 506 (part. Juanes) ya está descargada\n",
            "La canción En Un Solo Día ya está descargada\n",
            "La canción Otras Se Pierden ya está descargada\n",
            "La canción París (part. Duki) ya está descargada\n",
            "La canción Nunca Al Revés ya está descargada\n",
            "La canción Salir Con Vida (part. Feid) ya está descargada\n",
            "La canción Si La Ves ya está descargada\n",
            "La canción Acuérdate de Mí ya está descargada\n",
            "La canción Mi Suerte ya está descargada\n",
            "La canción Segundos Platos ya está descargada\n",
            "La canción Mi Vida Entera ya está descargada\n"
          ]
        }
      ]
    },
    {
      "cell_type": "code",
      "source": [
        " pip install beautifulsoup4"
      ],
      "metadata": {
        "colab": {
          "base_uri": "https://localhost:8080/"
        },
        "id": "CVZxXOpkwdKK",
        "outputId": "b117e085-f84d-47c2-bf2c-ff4fa86ac45c"
      },
      "execution_count": 12,
      "outputs": [
        {
          "output_type": "stream",
          "name": "stdout",
          "text": [
            "Looking in indexes: https://pypi.org/simple, https://us-python.pkg.dev/colab-wheels/public/simple/\n",
            "Requirement already satisfied: beautifulsoup4 in /usr/local/lib/python3.10/dist-packages (4.11.2)\n",
            "Requirement already satisfied: soupsieve>1.2 in /usr/local/lib/python3.10/dist-packages (from beautifulsoup4) (2.4.1)\n"
          ]
        }
      ]
    },
    {
      "cell_type": "code",
      "source": [
        "pip install requests "
      ],
      "metadata": {
        "colab": {
          "base_uri": "https://localhost:8080/"
        },
        "id": "wzapNfUWwgB5",
        "outputId": "9fe993df-060c-4035-9955-f28f88a3769d"
      },
      "execution_count": 13,
      "outputs": [
        {
          "output_type": "stream",
          "name": "stdout",
          "text": [
            "Looking in indexes: https://pypi.org/simple, https://us-python.pkg.dev/colab-wheels/public/simple/\n",
            "Requirement already satisfied: requests in /usr/local/lib/python3.10/dist-packages (2.27.1)\n",
            "Requirement already satisfied: urllib3<1.27,>=1.21.1 in /usr/local/lib/python3.10/dist-packages (from requests) (1.26.15)\n",
            "Requirement already satisfied: certifi>=2017.4.17 in /usr/local/lib/python3.10/dist-packages (from requests) (2022.12.7)\n",
            "Requirement already satisfied: charset-normalizer~=2.0.0 in /usr/local/lib/python3.10/dist-packages (from requests) (2.0.12)\n",
            "Requirement already satisfied: idna<4,>=2.5 in /usr/local/lib/python3.10/dist-packages (from requests) (3.4)\n"
          ]
        }
      ]
    }
  ]
}